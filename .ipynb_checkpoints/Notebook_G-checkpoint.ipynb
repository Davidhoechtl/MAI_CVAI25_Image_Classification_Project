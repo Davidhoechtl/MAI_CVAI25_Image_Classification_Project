{
 "cells": [
  {
   "cell_type": "code",
   "execution_count": null,
   "metadata": {
    "_kg_hide-output": true
   },
   "outputs": [],
   "source": [
    "!pip install fiftyone"
   ]
  },
  {
   "cell_type": "code",
   "execution_count": null,
   "metadata": {},
   "outputs": [],
   "source": [
    "# import fiftyone as fo\n",
    "import pandas as pd\n",
    "from fiftyone import ViewField as F\n",
    "\n",
    "my_classes = [\"Briefcase\", \"Box\", \"Axe\"]\n",
    "export_dir = \"/kaggle/lukas/project-2025\"\n",
    "\n",
    "dataset = fo.zoo.load_zoo_dataset(\n",
    "    \"open-images-v7\",\n",
    "    split=\"train\",\n",
    "    label_types=[\"detections\"],\n",
    "    classes=my_classes,\n",
    "    max_samples=100,\n",
    "    shuffle=True\n",
    ")\n",
    "\n",
    "dataset = dataset.filter_labels(\"ground_truth\", F(\"label\").is_in(my_classes))\n",
    "\n",
    "patches = dataset.to_patches(\"ground_truth\")\n",
    "\n",
    "patches.export(\n",
    "    export_dir=export_dir,\n",
    "    dataset_type=fo.types.ImageClassificationDirectoryTree,\n",
    "    label_field=\"ground_truth\",\n",
    ")"
   ]
  }
 ],
 "metadata": {
  "kaggle": {
   "accelerator": "none",
   "dataSources": [],
   "dockerImageVersionId": 30646,
   "isGpuEnabled": false,
   "isInternetEnabled": true,
   "language": "python",
   "sourceType": "notebook"
  },
  "kernelspec": {
   "display_name": "Python (cvai_classification)",
   "language": "python",
   "name": "cvai_classification"
  },
  "language_info": {
   "codemirror_mode": {
    "name": "ipython",
    "version": 3
   },
   "file_extension": ".py",
   "mimetype": "text/x-python",
   "name": "python",
   "nbconvert_exporter": "python",
   "pygments_lexer": "ipython3",
   "version": "3.10.13"
  }
 },
 "nbformat": 4,
 "nbformat_minor": 4
}
